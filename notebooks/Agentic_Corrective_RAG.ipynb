{
  "nbformat": 4,
  "nbformat_minor": 0,
  "metadata": {
    "colab": {
      "provenance": []
    },
    "kernelspec": {
      "name": "python3",
      "display_name": "Python 3"
    },
    "language_info": {
      "name": "python"
    }
  },
  "cells": [
    {
      "cell_type": "markdown",
      "source": [
        "# **Install the Required Libraries**"
      ],
      "metadata": {
        "id": "HmmfG_lk7kR4"
      }
    },
    {
      "cell_type": "code",
      "source": [
        "%%capture\n",
        "!pip install langchain\n",
        "!pip install langchain-google-genai\n",
        "!pip install langchain-community\n",
        "!pip install langchain-chroma\n",
        "!pip install langchain-core\n",
        "!pip install langgraph\n",
        "!pip install PyMuPDF\n",
        "!pip install chromadb"
      ],
      "metadata": {
        "id": "xhayO2fhvZVn"
      },
      "execution_count": 1,
      "outputs": []
    },
    {
      "cell_type": "markdown",
      "source": [
        "# **Load the Required API Keys**"
      ],
      "metadata": {
        "id": "gtaJkfGZ7rBw"
      }
    },
    {
      "cell_type": "code",
      "source": [
        "#Set up Gemini & Tavily Search API keys\n",
        "import os\n",
        "import yaml\n",
        "\n",
        "with open(\"gemini_key_gtm.yaml\", 'r') as file:\n",
        "    api_creds = yaml.safe_load(file)\n",
        "\n",
        "os.environ[\"GOOGLE_API_KEY\"] = api_creds['gemini_key']\n",
        "\n",
        "with open(\"tavily_key.yaml\", 'r') as file:\n",
        "    api_creds = yaml.safe_load(file)\n",
        "\n",
        "os.environ[\"TAVILY_API_KEY\"] = api_creds['tavily_key']\n",
        "Tavily_API_Key = os.environ[\"TAVILY_API_KEY\"]"
      ],
      "metadata": {
        "id": "boUhMyssxRj7"
      },
      "execution_count": 1,
      "outputs": []
    },
    {
      "cell_type": "markdown",
      "source": [
        "# **Import Required Libraries**"
      ],
      "metadata": {
        "id": "HEiZmpx67wIi"
      }
    },
    {
      "cell_type": "code",
      "source": [
        "from langchain.text_splitter import RecursiveCharacterTextSplitter\n",
        "from langchain_chroma import Chroma\n",
        "from langchain_google_genai import ChatGoogleGenerativeAI, GoogleGenerativeAIEmbeddings\n",
        "from langchain_core.prompts import ChatPromptTemplate\n",
        "from langchain_core.pydantic_v1 import BaseModel, Field\n",
        "from langchain_core.runnables import RunnablePassthrough, RunnableLambda\n",
        "from langchain_community.document_loaders import PyMuPDFLoader\n",
        "from langchain_core.output_parsers import StrOutputParser\n",
        "from langchain_community.tools.tavily_search import TavilySearchResults\n",
        "from langchain.schema import Document\n",
        "from langgraph.graph import END, StateGraph\n",
        "from IPython.display import Image, display, Markdown\n",
        "from operator import itemgetter\n",
        "from typing import List\n",
        "from typing_extensions import TypedDict\n",
        "import tempfile\n",
        "import os"
      ],
      "metadata": {
        "colab": {
          "base_uri": "https://localhost:8080/"
        },
        "id": "f7O1RCc6vZSD",
        "outputId": "98524444-2a48-4f72-af5a-5d87b2fb0461"
      },
      "execution_count": 2,
      "outputs": [
        {
          "output_type": "stream",
          "name": "stderr",
          "text": [
            "/usr/local/lib/python3.11/dist-packages/IPython/core/interactiveshell.py:3553: LangChainDeprecationWarning: As of langchain-core 0.3.0, LangChain uses pydantic v2 internally. The langchain_core.pydantic_v1 module was a compatibility shim for pydantic v1, and should no longer be used. Please update the code to import from Pydantic directly.\n",
            "\n",
            "For example, replace imports like: `from langchain_core.pydantic_v1 import BaseModel`\n",
            "with: `from pydantic import BaseModel`\n",
            "or the v1 compatibility namespace if you are working in a code base that has not been fully upgraded to pydantic 2 yet. \tfrom pydantic.v1 import BaseModel\n",
            "\n",
            "  exec(code_obj, self.user_global_ns, self.user_ns)\n"
          ]
        }
      ]
    },
    {
      "cell_type": "markdown",
      "source": [
        "# **Define the Language Model & Embedding Model**"
      ],
      "metadata": {
        "id": "5oCIGJMU72FZ"
      }
    },
    {
      "cell_type": "code",
      "source": [
        "embed_model = GoogleGenerativeAIEmbeddings(model=\"models/text-embedding-004\")\n",
        "llm = ChatGoogleGenerativeAI(model=\"gemini-1.5-flash\")"
      ],
      "metadata": {
        "id": "qNPH4h0fvYxj"
      },
      "execution_count": 3,
      "outputs": []
    },
    {
      "cell_type": "markdown",
      "source": [
        "# **Load & Chunk the Document**"
      ],
      "metadata": {
        "id": "vw8KRcoc8Aw7"
      }
    },
    {
      "cell_type": "code",
      "source": [
        "files = \"/content/practitioners_guide_to_mlops_whitepaper.pdf\"\n",
        "\n",
        "loader = PyMuPDFLoader(files)\n",
        "docs = loader.load()\n",
        "splitter = RecursiveCharacterTextSplitter(chunk_size=2000, chunk_overlap=300)\n",
        "chunked_docs = splitter.split_documents(docs)"
      ],
      "metadata": {
        "id": "Dm3v-H9b2AgA"
      },
      "execution_count": 4,
      "outputs": []
    },
    {
      "cell_type": "code",
      "source": [
        "len(chunked_docs)"
      ],
      "metadata": {
        "colab": {
          "base_uri": "https://localhost:8080/"
        },
        "id": "484trQxs2LPU",
        "outputId": "7ff4944f-d9d8-438f-9490-08c7d85c0774"
      },
      "execution_count": 5,
      "outputs": [
        {
          "output_type": "execute_result",
          "data": {
            "text/plain": [
              "51"
            ]
          },
          "metadata": {},
          "execution_count": 5
        }
      ]
    },
    {
      "cell_type": "code",
      "source": [
        "chunked_docs[:3]"
      ],
      "metadata": {
        "colab": {
          "base_uri": "https://localhost:8080/"
        },
        "id": "sAQCvwpV2cgG",
        "outputId": "3999f7f5-1eb3-41b2-bc60-6bde1ef6c291"
      },
      "execution_count": 6,
      "outputs": [
        {
          "output_type": "execute_result",
          "data": {
            "text/plain": [
              "[Document(metadata={'producer': 'Adobe PDF Library 15.0', 'creator': 'Adobe InDesign 16.1 (Macintosh)', 'creationdate': '2021-05-11T22:05:38+03:00', 'source': '/content/practitioners_guide_to_mlops_whitepaper.pdf', 'file_path': '/content/practitioners_guide_to_mlops_whitepaper.pdf', 'total_pages': 37, 'format': 'PDF 1.7', 'title': '', 'author': '', 'subject': '', 'keywords': '', 'moddate': '2021-05-11T22:05:50+03:00', 'trapped': '', 'modDate': \"D:20210511220550+03'00'\", 'creationDate': \"D:20210511220538+03'00'\", 'page': 0}, page_content='Practitioners guide to MLOps:\\nA framework for continuous \\ndelivery and automation of\\nmachine learning.\\nWhite paper\\nMay 2021\\nAuthors:\\nKhalid Salama,\\nJarek Kazmierczak,\\nDonna Schut'),\n",
              " Document(metadata={'producer': 'Adobe PDF Library 15.0', 'creator': 'Adobe InDesign 16.1 (Macintosh)', 'creationdate': '2021-05-11T22:05:38+03:00', 'source': '/content/practitioners_guide_to_mlops_whitepaper.pdf', 'file_path': '/content/practitioners_guide_to_mlops_whitepaper.pdf', 'total_pages': 37, 'format': 'PDF 1.7', 'title': '', 'author': '', 'subject': '', 'keywords': '', 'moddate': '2021-05-11T22:05:50+03:00', 'trapped': '', 'modDate': \"D:20210511220550+03'00'\", 'creationDate': \"D:20210511220538+03'00'\", 'page': 1}, page_content='Table of Contents\\nExecutive summary\\t\\n3\\nOverview of MLOps lifecycle and core capabilities\\t\\n4\\nDeep dive of MLOps processes\\t\\n15\\nPutting it all together\\t\\n34\\nAdditional resources\\t\\n36\\nBuilding an ML-enabled system\\t\\n6\\nThe MLOps lifecycle\\t\\n7\\nMLOps: An end-to-end workflow\\t\\n8\\nMLOps capabilities\\t\\n9\\n      Experimentation\\t\\n11\\n      Data processing\\t\\n11\\n      Model training\\t\\n11\\n      Model evaluation\\t\\n12\\n      Model serving\\t\\n12\\n      Online experimentation\\t\\n13\\n      Model monitoring\\t\\n13\\n      ML pipelines\\t\\n13\\n      Model registry\\t\\n14\\n      Dataset and feature repository\\t\\n14\\n      ML metadata and artifact tracking\\t\\n15\\nML development\\t\\n16\\nTraining operationalization\\t\\n18\\nContinuous training\\t\\n20\\nModel deployment\\t\\n23\\nPrediction serving\\t\\n25\\nContinuous monitoring\\t\\n26\\nData and model management\\t\\n29\\n      Dataset and feature management\\t\\n29\\n             Feature management\\t\\n30\\n             Dataset management\\t\\n31\\n      Model management\\t\\n32\\n             ML metadata tracking\\t\\n32\\n             Model governance\\t\\n33'),\n",
              " Document(metadata={'producer': 'Adobe PDF Library 15.0', 'creator': 'Adobe InDesign 16.1 (Macintosh)', 'creationdate': '2021-05-11T22:05:38+03:00', 'source': '/content/practitioners_guide_to_mlops_whitepaper.pdf', 'file_path': '/content/practitioners_guide_to_mlops_whitepaper.pdf', 'total_pages': 37, 'format': 'PDF 1.7', 'title': '', 'author': '', 'subject': '', 'keywords': '', 'moddate': '2021-05-11T22:05:50+03:00', 'trapped': '', 'modDate': \"D:20210511220550+03'00'\", 'creationDate': \"D:20210511220538+03'00'\", 'page': 2}, page_content='Executive summary\\nAcross industries, DevOps and DataOps have been widely adopted as methodologies to improve quality and re\\xad\\nduce the time to market of software engineering and data engineering initiatives. With the rapid growth in machine \\nlearning (ML) systems, similar approaches need to be developed in the context of ML engineering, which handle the \\nunique complexities of the practical applications of ML. This is the domain of MLOps. MLOps is a set of standard\\xad\\nized processes and technology capabilities for building, deploying, and operationalizing ML systems rapidly and \\nreliably.]\\nWe previously published Google Cloud’s AI Adoption Framework to provide guidance for technology leaders who \\nwant to build an effective artificial intelligence (AI) capability in order to transform their business. That framework \\ncovers AI challenges around people, data, technology, and process, structured in six different themes: learn, lead, \\naccess, secure, scale, and automate. \\nThe current document takes a deeper dive into the themes of scale and automate to illustrate the requirements for \\nbuilding and operationalizing ML systems. Scale concerns the extent to which you use cloud managed ML services \\nthat scale with large amounts of data and large numbers of data processing and ML jobs, with reduced operational \\noverhead. Automate concerns the extent to which you are able to deploy, execute, and operate technology for data \\nprocessing and ML pipelines in production efficiently, frequently, and reliably.\\nWe outline an MLOps framework that defines core processes and technical capabilities. Organizations can use this \\nframework to help establish mature MLOps practices for building and operationalizing ML systems. Adopting the \\nframework can help organizations improve collaboration between teams, improve the reliability and scalability of ML \\nsystems, and shorten development cycle times. These benefits in turn drive innovation and help gain overall busi\\xad')]"
            ]
          },
          "metadata": {},
          "execution_count": 6
        }
      ]
    },
    {
      "cell_type": "markdown",
      "source": [
        "# **Define the Chroma Vector Database**"
      ],
      "metadata": {
        "id": "2GPxe_P18Ldn"
      }
    },
    {
      "cell_type": "code",
      "source": [
        "# Create Chroma Vector DB\n",
        "chroma_db = Chroma.from_documents(\n",
        "    documents=chunked_docs,\n",
        "    collection_name='rag_db',\n",
        "    embedding=embed_model,\n",
        "    collection_metadata={\"hnsw:space\": \"cosine\"},\n",
        "    persist_directory=\"./doc_db\"\n",
        ")"
      ],
      "metadata": {
        "id": "hJGu9dda2yaW"
      },
      "execution_count": 7,
      "outputs": []
    },
    {
      "cell_type": "markdown",
      "source": [
        "# **Define the Retriever**"
      ],
      "metadata": {
        "id": "OiMRA1go8XUo"
      }
    },
    {
      "cell_type": "code",
      "source": [
        "similarity_threshold_retriever = chroma_db.as_retriever(search_type=\"similarity_score_threshold\",\n",
        "                                                        search_kwargs={\"k\": 3,\n",
        "                                                                       \"score_threshold\": 0.3})"
      ],
      "metadata": {
        "id": "uNciT75IvYoL"
      },
      "execution_count": 8,
      "outputs": []
    },
    {
      "cell_type": "code",
      "source": [
        "query = \"what is the mlops?\"\n",
        "retrieved_docs = similarity_threshold_retriever.invoke(query)\n",
        "retrieved_docs"
      ],
      "metadata": {
        "colab": {
          "base_uri": "https://localhost:8080/"
        },
        "id": "H-9RpfGy23Xt",
        "outputId": "72b00334-ca53-4a15-c88e-d90859ff1bc4"
      },
      "execution_count": 9,
      "outputs": [
        {
          "output_type": "execute_result",
          "data": {
            "text/plain": [
              "[Document(id='d69e1483-8c75-4b32-af45-e6ccda0281d7', metadata={'author': '', 'creationDate': \"D:20210511220538+03'00'\", 'creationdate': '2021-05-11T22:05:38+03:00', 'creator': 'Adobe InDesign 16.1 (Macintosh)', 'file_path': '/content/practitioners_guide_to_mlops_whitepaper.pdf', 'format': 'PDF 1.7', 'keywords': '', 'modDate': \"D:20210511220550+03'00'\", 'moddate': '2021-05-11T22:05:50+03:00', 'page': 2, 'producer': 'Adobe PDF Library 15.0', 'source': '/content/practitioners_guide_to_mlops_whitepaper.pdf', 'subject': '', 'title': '', 'total_pages': 37, 'trapped': ''}, page_content='framework can help organizations improve collaboration between teams, improve the reliability and scalability of ML \\nsystems, and shorten development cycle times. These benefits in turn drive innovation and help gain overall busi\\xad\\nness value from investments in ML.\\nThis document is intended for technology leaders and enterprise architects who want to understand MLOps. It’s also \\nfor teams who want details about what MLOps looks like in practice. The document assumes that readers are famil\\xad\\niar with basic machine learning concepts and with development and deployment practices such as CI/CD.\\nThe document is in two parts. The first part, an overview of the MLOps lifecycle, is for all readers. It introduces \\nMLOps processes and capabilities and why they’re important for successful adoption of ML-based systems.\\nThe second part is a deep dive on the MLOps processes and capabilities. This part is for readers who want to un\\xad\\nderstand the concrete details of tasks like running a continuous training pipeline, deploying a model, and monitoring \\npredictive performance of an ML model.\\n3'),\n",
              " Document(id='8354a08e-8f0f-42a1-9a33-39c380c01a20', metadata={'author': '', 'creationDate': \"D:20210511220538+03'00'\", 'creationdate': '2021-05-11T22:05:38+03:00', 'creator': 'Adobe InDesign 16.1 (Macintosh)', 'file_path': '/content/practitioners_guide_to_mlops_whitepaper.pdf', 'format': 'PDF 1.7', 'keywords': '', 'modDate': \"D:20210511220550+03'00'\", 'moddate': '2021-05-11T22:05:50+03:00', 'page': 2, 'producer': 'Adobe PDF Library 15.0', 'source': '/content/practitioners_guide_to_mlops_whitepaper.pdf', 'subject': '', 'title': '', 'total_pages': 37, 'trapped': ''}, page_content='framework can help organizations improve collaboration between teams, improve the reliability and scalability of ML \\nsystems, and shorten development cycle times. These benefits in turn drive innovation and help gain overall busi\\xad\\nness value from investments in ML.\\nThis document is intended for technology leaders and enterprise architects who want to understand MLOps. It’s also \\nfor teams who want details about what MLOps looks like in practice. The document assumes that readers are famil\\xad\\niar with basic machine learning concepts and with development and deployment practices such as CI/CD.\\nThe document is in two parts. The first part, an overview of the MLOps lifecycle, is for all readers. It introduces \\nMLOps processes and capabilities and why they’re important for successful adoption of ML-based systems.\\nThe second part is a deep dive on the MLOps processes and capabilities. This part is for readers who want to un\\xad\\nderstand the concrete details of tasks like running a continuous training pipeline, deploying a model, and monitoring \\npredictive performance of an ML model.\\n3'),\n",
              " Document(id='77604f6f-2ca2-46ad-85c9-080566f309d4', metadata={'author': '', 'creationDate': \"D:20210511220538+03'00'\", 'creationdate': '2021-05-11T22:05:38+03:00', 'creator': 'Adobe InDesign 16.1 (Macintosh)', 'file_path': '/content/practitioners_guide_to_mlops_whitepaper.pdf', 'format': 'PDF 1.7', 'keywords': '', 'modDate': \"D:20210511220550+03'00'\", 'moddate': '2021-05-11T22:05:50+03:00', 'page': 2, 'producer': 'Adobe PDF Library 15.0', 'source': '/content/practitioners_guide_to_mlops_whitepaper.pdf', 'subject': '', 'title': '', 'total_pages': 37, 'trapped': ''}, page_content='framework can help organizations improve collaboration between teams, improve the reliability and scalability of ML \\nsystems, and shorten development cycle times. These benefits in turn drive innovation and help gain overall busi\\xad\\nness value from investments in ML.\\nThis document is intended for technology leaders and enterprise architects who want to understand MLOps. It’s also \\nfor teams who want details about what MLOps looks like in practice. The document assumes that readers are famil\\xad\\niar with basic machine learning concepts and with development and deployment practices such as CI/CD.\\nThe document is in two parts. The first part, an overview of the MLOps lifecycle, is for all readers. It introduces \\nMLOps processes and capabilities and why they’re important for successful adoption of ML-based systems.\\nThe second part is a deep dive on the MLOps processes and capabilities. This part is for readers who want to un\\xad\\nderstand the concrete details of tasks like running a continuous training pipeline, deploying a model, and monitoring \\npredictive performance of an ML model.\\n3')]"
            ]
          },
          "metadata": {},
          "execution_count": 9
        }
      ]
    },
    {
      "cell_type": "code",
      "source": [
        "query = \"what is llmops?\"\n",
        "retrieved_docs = similarity_threshold_retriever.invoke(query)\n",
        "retrieved_docs"
      ],
      "metadata": {
        "colab": {
          "base_uri": "https://localhost:8080/"
        },
        "id": "_SvTm0aq3IUJ",
        "outputId": "7131ce78-8207-4c36-ccd7-da16b5f099ea"
      },
      "execution_count": 10,
      "outputs": [
        {
          "output_type": "execute_result",
          "data": {
            "text/plain": [
              "[Document(id='77604f6f-2ca2-46ad-85c9-080566f309d4', metadata={'author': '', 'creationDate': \"D:20210511220538+03'00'\", 'creationdate': '2021-05-11T22:05:38+03:00', 'creator': 'Adobe InDesign 16.1 (Macintosh)', 'file_path': '/content/practitioners_guide_to_mlops_whitepaper.pdf', 'format': 'PDF 1.7', 'keywords': '', 'modDate': \"D:20210511220550+03'00'\", 'moddate': '2021-05-11T22:05:50+03:00', 'page': 2, 'producer': 'Adobe PDF Library 15.0', 'source': '/content/practitioners_guide_to_mlops_whitepaper.pdf', 'subject': '', 'title': '', 'total_pages': 37, 'trapped': ''}, page_content='framework can help organizations improve collaboration between teams, improve the reliability and scalability of ML \\nsystems, and shorten development cycle times. These benefits in turn drive innovation and help gain overall busi\\xad\\nness value from investments in ML.\\nThis document is intended for technology leaders and enterprise architects who want to understand MLOps. It’s also \\nfor teams who want details about what MLOps looks like in practice. The document assumes that readers are famil\\xad\\niar with basic machine learning concepts and with development and deployment practices such as CI/CD.\\nThe document is in two parts. The first part, an overview of the MLOps lifecycle, is for all readers. It introduces \\nMLOps processes and capabilities and why they’re important for successful adoption of ML-based systems.\\nThe second part is a deep dive on the MLOps processes and capabilities. This part is for readers who want to un\\xad\\nderstand the concrete details of tasks like running a continuous training pipeline, deploying a model, and monitoring \\npredictive performance of an ML model.\\n3'),\n",
              " Document(id='d69e1483-8c75-4b32-af45-e6ccda0281d7', metadata={'author': '', 'creationDate': \"D:20210511220538+03'00'\", 'creationdate': '2021-05-11T22:05:38+03:00', 'creator': 'Adobe InDesign 16.1 (Macintosh)', 'file_path': '/content/practitioners_guide_to_mlops_whitepaper.pdf', 'format': 'PDF 1.7', 'keywords': '', 'modDate': \"D:20210511220550+03'00'\", 'moddate': '2021-05-11T22:05:50+03:00', 'page': 2, 'producer': 'Adobe PDF Library 15.0', 'source': '/content/practitioners_guide_to_mlops_whitepaper.pdf', 'subject': '', 'title': '', 'total_pages': 37, 'trapped': ''}, page_content='framework can help organizations improve collaboration between teams, improve the reliability and scalability of ML \\nsystems, and shorten development cycle times. These benefits in turn drive innovation and help gain overall busi\\xad\\nness value from investments in ML.\\nThis document is intended for technology leaders and enterprise architects who want to understand MLOps. It’s also \\nfor teams who want details about what MLOps looks like in practice. The document assumes that readers are famil\\xad\\niar with basic machine learning concepts and with development and deployment practices such as CI/CD.\\nThe document is in two parts. The first part, an overview of the MLOps lifecycle, is for all readers. It introduces \\nMLOps processes and capabilities and why they’re important for successful adoption of ML-based systems.\\nThe second part is a deep dive on the MLOps processes and capabilities. This part is for readers who want to un\\xad\\nderstand the concrete details of tasks like running a continuous training pipeline, deploying a model, and monitoring \\npredictive performance of an ML model.\\n3'),\n",
              " Document(id='8354a08e-8f0f-42a1-9a33-39c380c01a20', metadata={'author': '', 'creationDate': \"D:20210511220538+03'00'\", 'creationdate': '2021-05-11T22:05:38+03:00', 'creator': 'Adobe InDesign 16.1 (Macintosh)', 'file_path': '/content/practitioners_guide_to_mlops_whitepaper.pdf', 'format': 'PDF 1.7', 'keywords': '', 'modDate': \"D:20210511220550+03'00'\", 'moddate': '2021-05-11T22:05:50+03:00', 'page': 2, 'producer': 'Adobe PDF Library 15.0', 'source': '/content/practitioners_guide_to_mlops_whitepaper.pdf', 'subject': '', 'title': '', 'total_pages': 37, 'trapped': ''}, page_content='framework can help organizations improve collaboration between teams, improve the reliability and scalability of ML \\nsystems, and shorten development cycle times. These benefits in turn drive innovation and help gain overall busi\\xad\\nness value from investments in ML.\\nThis document is intended for technology leaders and enterprise architects who want to understand MLOps. It’s also \\nfor teams who want details about what MLOps looks like in practice. The document assumes that readers are famil\\xad\\niar with basic machine learning concepts and with development and deployment practices such as CI/CD.\\nThe document is in two parts. The first part, an overview of the MLOps lifecycle, is for all readers. It introduces \\nMLOps processes and capabilities and why they’re important for successful adoption of ML-based systems.\\nThe second part is a deep dive on the MLOps processes and capabilities. This part is for readers who want to un\\xad\\nderstand the concrete details of tasks like running a continuous training pipeline, deploying a model, and monitoring \\npredictive performance of an ML model.\\n3')]"
            ]
          },
          "metadata": {},
          "execution_count": 10
        }
      ]
    },
    {
      "cell_type": "markdown",
      "source": [
        "# **Create a Query Retrieval Grader**"
      ],
      "metadata": {
        "id": "9W4YHJMm8kwg"
      }
    },
    {
      "cell_type": "code",
      "source": [
        "# Data model for LLM output format\n",
        "class GradeDocuments(BaseModel):\n",
        "    \"\"\"Binary score for relevance check on retrieved documents.\"\"\"\n",
        "    binary_score: str = Field(\n",
        "        description=\"Documents are relevant to the question, 'yes' or 'no'\"\n",
        "    )\n",
        "\n",
        "\n",
        "structured_llm_grader = llm.with_structured_output(GradeDocuments)\n",
        "\n",
        "# Prompt template for grading\n",
        "SYS_PROMPT = \"\"\"You are an expert grader assessing relevance of a retrieved document to a user question.\n",
        "                Follow these instructions for grading:\n",
        "                  - If the document contains keyword(s) or semantic meaning related to the question, grade it as relevant.\n",
        "                  - Your grade should be either 'yes' or 'no' to indicate whether the document is relevant to the question or not.\n",
        "             \"\"\"\n",
        "\n",
        "grade_prompt = ChatPromptTemplate.from_messages(\n",
        "    [\n",
        "        (\"system\", SYS_PROMPT),\n",
        "        (\"human\", \"\"\"Retrieved document:\n",
        "                     {document}\n",
        "                     User question:\n",
        "                     {question}\n",
        "                  \"\"\"),\n",
        "    ]\n",
        ")\n",
        "# Build grader chain\n",
        "doc_grader = (grade_prompt\n",
        "                  |\n",
        "              structured_llm_grader)"
      ],
      "metadata": {
        "id": "jbBDI-iQvXny"
      },
      "execution_count": 11,
      "outputs": []
    },
    {
      "cell_type": "code",
      "source": [
        "query = \"what is the mlops and its lifecycle?\"\n",
        "top3_docs = similarity_threshold_retriever.invoke(query)\n",
        "for doc in top3_docs:\n",
        "    print(doc.page_content)\n",
        "    print('GRADE:', doc_grader.invoke({\"question\": query, \"document\": doc.page_content}))\n",
        "    print()"
      ],
      "metadata": {
        "colab": {
          "base_uri": "https://localhost:8080/"
        },
        "id": "TI7x9wMX9CUn",
        "outputId": "34d18db2-d1ce-4c27-c62b-7bf707964631"
      },
      "execution_count": 31,
      "outputs": [
        {
          "output_type": "stream",
          "name": "stdout",
          "text": [
            "7\n",
            "The MLOps lifecycle\n",
            "The MLOps lifecycle encompasses seven integrated and iterative processes, as shown in figure 2.\n",
            "The processes can consist of the following:\n",
            "•\t\n",
            "ML development concerns experimenting and developing a robust and reproducible model training proce­\n",
            "dure (training pipeline code), which consists of multiple tasks from data preparation and transformation to \n",
            "model training and evaluation.\n",
            "•\t\n",
            "Training operationalization concerns automating the process of packaging, testing, and deploying repeat­\n",
            "able and reliable training pipelines.\n",
            "•\t\n",
            "Continuous training concerns repeatedly executing the training pipeline in response to new data or to code \n",
            "changes, or on a schedule, potentially with new training settings.\n",
            "•\t\n",
            "Model deployment concerns packaging, testing, and deploying a model to a serving environment for online \n",
            "experimentation and production serving.\n",
            "Figure 2. The MLOps lifecycle\n",
            "GRADE: binary_score='yes'\n",
            "\n",
            "7\n",
            "The MLOps lifecycle\n",
            "The MLOps lifecycle encompasses seven integrated and iterative processes, as shown in figure 2.\n",
            "The processes can consist of the following:\n",
            "•\t\n",
            "ML development concerns experimenting and developing a robust and reproducible model training proce­\n",
            "dure (training pipeline code), which consists of multiple tasks from data preparation and transformation to \n",
            "model training and evaluation.\n",
            "•\t\n",
            "Training operationalization concerns automating the process of packaging, testing, and deploying repeat­\n",
            "able and reliable training pipelines.\n",
            "•\t\n",
            "Continuous training concerns repeatedly executing the training pipeline in response to new data or to code \n",
            "changes, or on a schedule, potentially with new training settings.\n",
            "•\t\n",
            "Model deployment concerns packaging, testing, and deploying a model to a serving environment for online \n",
            "experimentation and production serving.\n",
            "Figure 2. The MLOps lifecycle\n",
            "GRADE: binary_score='yes'\n",
            "\n",
            "7\n",
            "The MLOps lifecycle\n",
            "The MLOps lifecycle encompasses seven integrated and iterative processes, as shown in figure 2.\n",
            "The processes can consist of the following:\n",
            "•\t\n",
            "ML development concerns experimenting and developing a robust and reproducible model training proce­\n",
            "dure (training pipeline code), which consists of multiple tasks from data preparation and transformation to \n",
            "model training and evaluation.\n",
            "•\t\n",
            "Training operationalization concerns automating the process of packaging, testing, and deploying repeat­\n",
            "able and reliable training pipelines.\n",
            "•\t\n",
            "Continuous training concerns repeatedly executing the training pipeline in response to new data or to code \n",
            "changes, or on a schedule, potentially with new training settings.\n",
            "•\t\n",
            "Model deployment concerns packaging, testing, and deploying a model to a serving environment for online \n",
            "experimentation and production serving.\n",
            "Figure 2. The MLOps lifecycle\n",
            "GRADE: binary_score='yes'\n",
            "\n"
          ]
        }
      ]
    },
    {
      "cell_type": "code",
      "source": [
        "query = \"what is the llmops\"\n",
        "top3_docs = similarity_threshold_retriever.invoke(query)\n",
        "for doc in top3_docs:\n",
        "    print(doc.page_content)\n",
        "    print('GRADE:', doc_grader.invoke({\"question\": query, \"document\": doc.page_content}))\n",
        "    print()"
      ],
      "metadata": {
        "colab": {
          "base_uri": "https://localhost:8080/"
        },
        "id": "DeLwJu9s87JQ",
        "outputId": "503126cc-8331-43a5-ab1e-f2941e93e337"
      },
      "execution_count": 30,
      "outputs": [
        {
          "output_type": "stream",
          "name": "stdout",
          "text": [
            "framework can help organizations improve collaboration between teams, improve the reliability and scalability of ML \n",
            "systems, and shorten development cycle times. These benefits in turn drive innovation and help gain overall busi­\n",
            "ness value from investments in ML.\n",
            "This document is intended for technology leaders and enterprise architects who want to understand MLOps. It’s also \n",
            "for teams who want details about what MLOps looks like in practice. The document assumes that readers are famil­\n",
            "iar with basic machine learning concepts and with development and deployment practices such as CI/CD.\n",
            "The document is in two parts. The first part, an overview of the MLOps lifecycle, is for all readers. It introduces \n",
            "MLOps processes and capabilities and why they’re important for successful adoption of ML-based systems.\n",
            "The second part is a deep dive on the MLOps processes and capabilities. This part is for readers who want to un­\n",
            "derstand the concrete details of tasks like running a continuous training pipeline, deploying a model, and monitoring \n",
            "predictive performance of an ML model.\n",
            "3\n",
            "GRADE: binary_score='no'\n",
            "\n",
            "framework can help organizations improve collaboration between teams, improve the reliability and scalability of ML \n",
            "systems, and shorten development cycle times. These benefits in turn drive innovation and help gain overall busi­\n",
            "ness value from investments in ML.\n",
            "This document is intended for technology leaders and enterprise architects who want to understand MLOps. It’s also \n",
            "for teams who want details about what MLOps looks like in practice. The document assumes that readers are famil­\n",
            "iar with basic machine learning concepts and with development and deployment practices such as CI/CD.\n",
            "The document is in two parts. The first part, an overview of the MLOps lifecycle, is for all readers. It introduces \n",
            "MLOps processes and capabilities and why they’re important for successful adoption of ML-based systems.\n",
            "The second part is a deep dive on the MLOps processes and capabilities. This part is for readers who want to un­\n",
            "derstand the concrete details of tasks like running a continuous training pipeline, deploying a model, and monitoring \n",
            "predictive performance of an ML model.\n",
            "3\n",
            "GRADE: binary_score='no'\n",
            "\n",
            "framework can help organizations improve collaboration between teams, improve the reliability and scalability of ML \n",
            "systems, and shorten development cycle times. These benefits in turn drive innovation and help gain overall busi­\n",
            "ness value from investments in ML.\n",
            "This document is intended for technology leaders and enterprise architects who want to understand MLOps. It’s also \n",
            "for teams who want details about what MLOps looks like in practice. The document assumes that readers are famil­\n",
            "iar with basic machine learning concepts and with development and deployment practices such as CI/CD.\n",
            "The document is in two parts. The first part, an overview of the MLOps lifecycle, is for all readers. It introduces \n",
            "MLOps processes and capabilities and why they’re important for successful adoption of ML-based systems.\n",
            "The second part is a deep dive on the MLOps processes and capabilities. This part is for readers who want to un­\n",
            "derstand the concrete details of tasks like running a continuous training pipeline, deploying a model, and monitoring \n",
            "predictive performance of an ML model.\n",
            "3\n",
            "GRADE: binary_score='no'\n",
            "\n"
          ]
        }
      ]
    },
    {
      "cell_type": "markdown",
      "source": [
        "# **Build a QA RAG Chain**"
      ],
      "metadata": {
        "id": "weemAbKK9IiL"
      }
    },
    {
      "cell_type": "code",
      "source": [
        "prompt = \"\"\"You are an assistant for question-answering tasks.\n",
        "            Use the following pieces of retrieved context to answer the question.\n",
        "            If no context is present or if you don't know the answer, just say that you don't know the answer.\n",
        "            Do not make up the answer unless it is there in the provided context.\n",
        "            Give a detailed answer and to the point answer with regard to the question.\n",
        "            Question:\n",
        "            {question}\n",
        "            Context:\n",
        "            {context}\n",
        "            Answer:\n",
        "         \"\"\"\n",
        "\n",
        "prompt_template = ChatPromptTemplate.from_template(prompt)\n",
        "\n",
        "def format_docs(docs):\n",
        "    return \"\\n\\n\".join(doc.page_content for doc in docs)\n",
        "\n",
        "qa_rag_chain = (\n",
        "    {\n",
        "        \"context\": (itemgetter('context')\n",
        "                        |\n",
        "                    RunnableLambda(format_docs)),\n",
        "        \"question\": itemgetter('question')\n",
        "    }\n",
        "      |\n",
        "    prompt_template\n",
        "      |\n",
        "    llm\n",
        "      |\n",
        "    StrOutputParser()\n",
        ")"
      ],
      "metadata": {
        "id": "i9rDFDCVuhk1"
      },
      "execution_count": 12,
      "outputs": []
    },
    {
      "cell_type": "markdown",
      "source": [
        "# **Create a Query Rephraser**"
      ],
      "metadata": {
        "id": "U69WPuw19azy"
      }
    },
    {
      "cell_type": "code",
      "source": [
        "# Prompt template for rewriting\n",
        "SYS_PROMPT = \"\"\"Act as a question re-writer and perform the following task:\n",
        "                 - Convert the following input question to a better version that is optimized for web search.\n",
        "                 - When re-writing, look at the input question and try to reason about the underlying semantic intent / meaning.\n",
        "             \"\"\"\n",
        "\n",
        "re_write_prompt = ChatPromptTemplate.from_messages(\n",
        "    [\n",
        "        (\"system\", SYS_PROMPT),\n",
        "        (\"human\", \"\"\"Here is the initial question:\n",
        "                     {question}\n",
        "                     Formulate an improved question.\n",
        "                  \"\"\",\n",
        "        ),\n",
        "    ]\n",
        ")\n",
        "\n",
        "question_rewriter = (re_write_prompt\n",
        "                        |\n",
        "                       llm\n",
        "                        |\n",
        "                     StrOutputParser())"
      ],
      "metadata": {
        "id": "iVRMcjdQuhiM"
      },
      "execution_count": 13,
      "outputs": []
    },
    {
      "cell_type": "code",
      "source": [
        "query = \"what is the difference between mlops vs llmops?\"\n",
        "question_rewriter.invoke({\"question\": query})"
      ],
      "metadata": {
        "colab": {
          "base_uri": "https://localhost:8080/",
          "height": 35
        },
        "id": "92XWcY4K4HGk",
        "outputId": "d646c39e-11c4-47a6-ee55-8fcad7e41193"
      },
      "execution_count": 14,
      "outputs": [
        {
          "output_type": "execute_result",
          "data": {
            "text/plain": [
              "'MLOps vs. LLMOps: Key Differences and Comparison'"
            ],
            "application/vnd.google.colaboratory.intrinsic+json": {
              "type": "string"
            }
          },
          "metadata": {},
          "execution_count": 14
        }
      ]
    },
    {
      "cell_type": "markdown",
      "source": [
        "# **Define the Tavily Web Search**"
      ],
      "metadata": {
        "id": "TRTkm8L-9lfb"
      }
    },
    {
      "cell_type": "code",
      "source": [
        "tv_search = TavilySearchResults(max_results=3, search_depth='advanced',\n",
        "                                max_tokens=10000)"
      ],
      "metadata": {
        "id": "qgsdZJgIuhfs"
      },
      "execution_count": 15,
      "outputs": []
    },
    {
      "cell_type": "markdown",
      "source": [
        "# **Graph State**\n",
        "\n",
        "stores and represent the state of the agent graph as we traverse through various nodes"
      ],
      "metadata": {
        "id": "TJyqAj2U9vjJ"
      }
    },
    {
      "cell_type": "code",
      "source": [
        "class GraphState(TypedDict):\n",
        "    \"\"\"\n",
        "    Represents the state of our graph.\n",
        "    Attributes:\n",
        "        question: question\n",
        "        generation: LLM response generation\n",
        "        web_search_needed: flag of whether to add web search - yes or no\n",
        "        documents: list of context documents\n",
        "    \"\"\"\n",
        "\n",
        "    question: str\n",
        "    generation: str\n",
        "    web_search_needed: str\n",
        "    documents: List[str]"
      ],
      "metadata": {
        "id": "mEp8HqJWuhdH"
      },
      "execution_count": 16,
      "outputs": []
    },
    {
      "cell_type": "markdown",
      "source": [
        "# **Retrieve**\n",
        "\n",
        "retrieves the relevant context documents from the vector database."
      ],
      "metadata": {
        "id": "7PFCIzwi96Ij"
      }
    },
    {
      "cell_type": "code",
      "source": [
        "def retrieve(state):\n",
        "    \"\"\"\n",
        "    Retrieve documents\n",
        "    Args:\n",
        "        state (dict): The current graph state\n",
        "    Returns:\n",
        "        state (dict): New key added to state, documents - that contains retrieved context documents\n",
        "    \"\"\"\n",
        "    print(\"---RETRIEVAL FROM VECTOR DB---\")\n",
        "\n",
        "    question = state[\"question\"]\n",
        "\n",
        "    # Retrieval\n",
        "    documents = similarity_threshold_retriever.invoke(question)\n",
        "\n",
        "    return {\"documents\": documents, \"question\": question}"
      ],
      "metadata": {
        "id": "9S91oyo0uhaz"
      },
      "execution_count": 17,
      "outputs": []
    },
    {
      "cell_type": "markdown",
      "source": [
        "# **Grade Documents**\n",
        "\n",
        "checks whether the retrieved documents are relevant to the question by using an LLM Grader"
      ],
      "metadata": {
        "id": "idtxmhJw-GQ9"
      }
    },
    {
      "cell_type": "code",
      "source": [
        "def grade_documents(state):\n",
        "    \"\"\"\n",
        "    Determines whether the retrieved documents are relevant to the question\n",
        "    by using an LLM Grader.\n",
        "    If any document are not relevant to question or documents are empty - Web Search needs to be done\n",
        "    If all documents are relevant to question - Web Search is not needed\n",
        "    Helps filtering out irrelevant documents\n",
        "    Args:\n",
        "        state (dict): The current graph state\n",
        "    Returns:\n",
        "        state (dict): Updates documents key with only filtered relevant documents\n",
        "    \"\"\"\n",
        "    print(\"---CHECK DOCUMENT RELEVANCE TO QUESTION---\")\n",
        "\n",
        "    question = state[\"question\"]\n",
        "    documents = state[\"documents\"]\n",
        "\n",
        "    # Score each doc\n",
        "    filtered_docs = []\n",
        "    web_search_needed = \"No\"\n",
        "\n",
        "    if documents:\n",
        "        for d in documents:\n",
        "            score = doc_grader.invoke(\n",
        "                {\"question\": question, \"document\": d.page_content}\n",
        "            )\n",
        "            grade = score.binary_score\n",
        "            if grade == \"yes\":\n",
        "                print(\"---GRADE: DOCUMENT RELEVANT---\")\n",
        "                filtered_docs.append(d)\n",
        "            else:\n",
        "                print(\"---GRADE: DOCUMENT NOT RELEVANT---\")\n",
        "                web_search_needed = \"Yes\"\n",
        "                continue\n",
        "    else:\n",
        "        print(\"---NO DOCUMENTS RETRIEVED---\")\n",
        "        web_search_needed = \"Yes\"\n",
        "\n",
        "    return {\"documents\": filtered_docs, \"question\": question, \"web_search_needed\": web_search_needed}"
      ],
      "metadata": {
        "id": "eahNx7K3uhYv"
      },
      "execution_count": 18,
      "outputs": []
    },
    {
      "cell_type": "markdown",
      "source": [
        "# **Query Rewriter**\n",
        "\n",
        "rewrites the input query to produce a better question optimized for web search using an LLM"
      ],
      "metadata": {
        "id": "ssCE0g_u-MgW"
      }
    },
    {
      "cell_type": "code",
      "source": [
        "def rewrite_query(state):\n",
        "    \"\"\"\n",
        "    Rewrite the query to produce a better question.\n",
        "    Args:\n",
        "        state (dict): The current graph state\n",
        "    Returns:\n",
        "        state (dict): Updates question key with a re-phrased or re-written question\n",
        "    \"\"\"\n",
        "    print(\"---REWRITE QUERY---\")\n",
        "\n",
        "    question = state[\"question\"]\n",
        "    documents = state[\"documents\"]\n",
        "\n",
        "    # Re-write question\n",
        "    better_question = question_rewriter.invoke({\"question\": question})\n",
        "\n",
        "    return {\"documents\": documents, \"question\": better_question}"
      ],
      "metadata": {
        "id": "Z1UF857JuhWF"
      },
      "execution_count": 19,
      "outputs": []
    },
    {
      "cell_type": "markdown",
      "source": [
        "# **Web Search**\n",
        "\n",
        "searches the web using the web search tool for the given query and retrieve some information which can be used as the context in RAG."
      ],
      "metadata": {
        "id": "2B8c1zTf-WP_"
      }
    },
    {
      "cell_type": "code",
      "source": [
        "def web_search(state):\n",
        "    \"\"\"\n",
        "    Web search based on the re-written question.\n",
        "    Args:\n",
        "        state (dict): The current graph state\n",
        "    Returns:\n",
        "        state (dict): Updates documents key with appended web results\n",
        "    \"\"\"\n",
        "    print(\"---WEB SEARCH---\")\n",
        "\n",
        "    question = state[\"question\"]\n",
        "    documents = state[\"documents\"]\n",
        "\n",
        "    # Web search\n",
        "    docs = tv_search.invoke(question)\n",
        "    web_results = \"\\n\\n\".join([d[\"content\"] for d in docs])\n",
        "    web_results = Document(page_content=web_results)\n",
        "    documents.append(web_results)\n",
        "\n",
        "    return {\"documents\": documents, \"question\": question}"
      ],
      "metadata": {
        "id": "OhnvwMKMuhRz"
      },
      "execution_count": 20,
      "outputs": []
    },
    {
      "cell_type": "markdown",
      "source": [
        "# **Generate Answer**\n",
        "\n",
        "Response generation from query and context documents."
      ],
      "metadata": {
        "id": "Q-vIRciP-fvV"
      }
    },
    {
      "cell_type": "code",
      "source": [
        "def generate_answer(state):\n",
        "    \"\"\"\n",
        "    Generate answer from context document using LLM\n",
        "    Args:\n",
        "        state (dict): The current graph state\n",
        "    Returns:\n",
        "        state (dict): New key added to state, generation, that contains LLM generation\n",
        "    \"\"\"\n",
        "    print(\"---GENERATE ANSWER---\")\n",
        "\n",
        "    question = state[\"question\"]\n",
        "    documents = state[\"documents\"]\n",
        "\n",
        "    # RAG generation\n",
        "    generation = qa_rag_chain.invoke({\"context\": documents, \"question\": question})\n",
        "\n",
        "    return {\"documents\": documents, \"question\": question, \"generation\": generation}"
      ],
      "metadata": {
        "id": "DktfepzZuhOk"
      },
      "execution_count": 21,
      "outputs": []
    },
    {
      "cell_type": "markdown",
      "source": [
        "# **Decide to Generate**\n",
        "\n",
        "checks if a web search is needed or a response should be generated."
      ],
      "metadata": {
        "id": "h3tlCZeE-5ur"
      }
    },
    {
      "cell_type": "code",
      "source": [
        "def decide_to_generate(state):\n",
        "    \"\"\"\n",
        "    Determines whether to generate an answer, or re-generate a question.\n",
        "    Args:\n",
        "        state (dict): The current graph state\n",
        "    Returns:\n",
        "        str: Binary decision for next node to call\n",
        "    \"\"\"\n",
        "    print(\"---ASSESS GRADED DOCUMENTS---\")\n",
        "\n",
        "    web_search_needed = state[\"web_search_needed\"]\n",
        "\n",
        "    if web_search_needed == \"Yes\":\n",
        "        # All documents have been filtered check_relevance\n",
        "        # We will re-generate a new query\n",
        "        print(\"---DECISION: SOME or ALL DOCUMENTS ARE NOT RELEVANT TO QUESTION, REWRITE QUERY---\")\n",
        "        return \"rewrite_query\"\n",
        "    else:\n",
        "        # We have relevant documents, so generate answer\n",
        "        print(\"---DECISION: GENERATE RESPONSE---\")\n",
        "        return \"generate_answer\""
      ],
      "metadata": {
        "id": "cDrmcivYuhKG"
      },
      "execution_count": 22,
      "outputs": []
    },
    {
      "cell_type": "markdown",
      "source": [
        "# **Agent Graph**"
      ],
      "metadata": {
        "id": "2O7lkquv_SSL"
      }
    },
    {
      "cell_type": "code",
      "source": [
        "agentic_rag = StateGraph(GraphState)\n",
        "\n",
        "# Define the nodes\n",
        "agentic_rag.add_node(\"retrieve\", retrieve)  # retrieve\n",
        "agentic_rag.add_node(\"grade_documents\", grade_documents)  # grade documents\n",
        "agentic_rag.add_node(\"rewrite_query\", rewrite_query)  # transform_query\n",
        "agentic_rag.add_node(\"web_search\", web_search)  # web search\n",
        "agentic_rag.add_node(\"generate_answer\", generate_answer)  # generate answer\n",
        "\n",
        "# Build graph\n",
        "agentic_rag.set_entry_point(\"retrieve\")\n",
        "agentic_rag.add_edge(\"retrieve\", \"grade_documents\")\n",
        "agentic_rag.add_conditional_edges(\n",
        "    \"grade_documents\",\n",
        "    decide_to_generate,\n",
        "    {\"rewrite_query\": \"rewrite_query\", \"generate_answer\": \"generate_answer\"},\n",
        ")\n",
        "agentic_rag.add_edge(\"rewrite_query\", \"web_search\")\n",
        "agentic_rag.add_edge(\"web_search\", \"generate_answer\")\n",
        "agentic_rag.add_edge(\"generate_answer\", END)\n",
        "\n",
        "# Compile\n",
        "agentic_rag = agentic_rag.compile()\n",
        "\n",
        "#Display the Graph\n",
        "display(Image(agentic_rag.get_graph().draw_mermaid_png()))"
      ],
      "metadata": {
        "colab": {
          "base_uri": "https://localhost:8080/",
          "height": 647
        },
        "id": "zDaHESE-uhF0",
        "outputId": "82c22d0f-68cd-40c3-c652-ca20b93134fe"
      },
      "execution_count": 23,
      "outputs": [
        {
          "output_type": "display_data",
          "data": {
            "image/png": "[encoded data removed]",
            "text/plain": [
              "<IPython.core.display.Image object>"
            ]
          },
          "metadata": {}
        }
      ]
    },
    {
      "cell_type": "markdown",
      "source": [
        "# **Test the Agentic CRAG System**"
      ],
      "metadata": {
        "id": "UunikrSl_XUv"
      }
    },
    {
      "cell_type": "code",
      "execution_count": 26,
      "metadata": {
        "colab": {
          "base_uri": "https://localhost:8080/",
          "height": 272
        },
        "id": "PAwvEw10uPnG",
        "outputId": "b2515eb8-e314-4a13-b4d0-0d6ee1ea88a8"
      },
      "outputs": [
        {
          "output_type": "stream",
          "name": "stdout",
          "text": [
            "---RETRIEVAL FROM VECTOR DB---\n",
            "---CHECK DOCUMENT RELEVANCE TO QUESTION---\n",
            "---GRADE: DOCUMENT NOT RELEVANT---\n",
            "---GRADE: DOCUMENT NOT RELEVANT---\n",
            "---GRADE: DOCUMENT NOT RELEVANT---\n",
            "---ASSESS GRADED DOCUMENTS---\n",
            "---DECISION: SOME or ALL DOCUMENTS ARE NOT RELEVANT TO QUESTION, REWRITE QUERY---\n",
            "---REWRITE QUERY---\n",
            "---WEB SEARCH---\n",
            "---GENERATE ANSWER---\n"
          ]
        },
        {
          "output_type": "display_data",
          "data": {
            "text/plain": [
              "<IPython.core.display.Markdown object>"
            ],
            "text/markdown": "LLMOps extends MLOps by incorporating practices specific to large language models (LLMs).  While MLOps covers a broader range of machine learning model management tasks, LLMOps focuses specifically on the deployment and management of LLMs.  Key differences include an increased emphasis on prompt engineering and fine-tuning during experimentation, rather than feature engineering, which is less crucial due to LLMs' ability to learn feature representations from raw data.  The ultimate goal of LLMOps is to enable the rapid, streamlined, automated, and ethical deployment of LLMs into production environments."
          },
          "metadata": {}
        }
      ],
      "source": [
        "query = \"what is the difference between mlops vs llmops?\"\n",
        "response = agentic_rag.invoke({\"question\": query})\n",
        "display(Markdown(response['generation']))"
      ]
    }
  ]
}